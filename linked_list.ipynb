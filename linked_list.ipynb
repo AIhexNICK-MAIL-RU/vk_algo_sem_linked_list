{
 "cells": [
  {
   "cell_type": "markdown",
   "metadata": {},
   "source": [
    "function hasCycle(head) {\n",
    "   if head == null || head.next == null {\n",
    "       return false\n",
    "   }\n",
    "\n",
    "   slow = head\u000b   fast = head.next\n",
    "\n",
    "   while slow != fast {\n",
    "       if fast == null || fast.next == null {\n",
    "           return false\n",
    "       }\n",
    "       slow = slow.next\n",
    "       fast = fast.next.next\n",
    "   }\n",
    "   return true\n",
    "}\n"
   ]
  },
  {
   "cell_type": "markdown",
   "metadata": {},
   "source": [
    "Этот код использует ту же логику двуногох гонки для определения цикла в связанном списке. Основные изменения:\n",
    "\n",
    "Функция объявляется с ключевым словом def.\n",
    "Проверка на null заменена на is None.\n",
    "Условия if и while используют оператор is вместо ==.\n",
    "Переменные slow и fast объявляются как обычные переменные Python.\n",
    "Функция принимает head как аргумент, который, вероятно, является ссылкой на первый узел связанного списка. Возвращаемое значение осталось прежним - True, если есть цикл, и False в противном случае."
   ]
  },
  {
   "cell_type": "code",
   "execution_count": null,
   "metadata": {},
   "outputs": [],
   "source": []
  },
  {
   "cell_type": "code",
   "execution_count": null,
   "metadata": {},
   "outputs": [],
   "source": [
    "def has_cycle(head):\n",
    "    if head is None or head.next is None:\n",
    "        return False\n",
    "    \n",
    "    slow = head\n",
    "    fast = head.next\n",
    "\n",
    "    while slow != fast:\n",
    "        if fast is None or fast.next is None:\n",
    "            return False\n",
    "        slow = slow.next\n",
    "        fast = fast.next.next\n",
    "    \n",
    "    return True"
   ]
  },
  {
   "cell_type": "markdown",
   "metadata": {},
   "source": [
    "function reverseLinkedList(head) {\n",
    "   prev = null\n",
    "   current = head\n",
    "\n",
    "   while (current !== null) {\n",
    "       next = current.next\n",
    "       current.next = prev\n",
    "       prev = current\n",
    "       current = next\n",
    "   }\n",
    "\n",
    "   head = prev\n",
    "   return head\n",
    "}\n"
   ]
  },
  {
   "cell_type": "markdown",
   "metadata": {},
   "source": [
    "Давайте разберем основные моменты:\n",
    "\n",
    "Мы определили класс ListNode, который используется для создания узлов связанного списка. Это стандартный подход в Python для работы со связанными списками.\n",
    "Функция reverseLinkedList принимает head как аргумент и возвращает измененный список.\n",
    "Мы проверяем, является ли head нулевым или имеет только один узел. В этом случае мы просто возвращаем head, так как список уже обратный.\n",
    "Переменные prev, current и next_node объявляются как обычные переменные Python.\n",
    "В цикле мы выполняем те же операции, что и в JavaScript версии:\n",
    "Сохраняем ссылку на следующий узел\n",
    "Устанавливаем next текущего узла на prev\n",
    "Перемещаем prev и current вперед\n",
    "После выхода из цикла мы возвращаем prev, который теперь является головой обратного списка.\n",
    "Этот код создает новый связанный список с перевернутой структуры, не изменяя исходный список. Если вы хотите изменить оригинальный список, вам нужно будет использовать дополнительную логику для сохранения ссылок на узлы перед их изменением."
   ]
  },
  {
   "cell_type": "code",
   "execution_count": null,
   "metadata": {},
   "outputs": [],
   "source": [
    "class ListNode:\n",
    "    def __init__(self, x):\n",
    "        self.val = x\n",
    "        self.next = None\n",
    "\n",
    "    def reverseLinkedList(head):\n",
    "        if not head or not head.next:\n",
    "            return head\n",
    "\n",
    "        prev = None\n",
    "        current = head\n",
    "\n",
    "        while current:\n",
    "            next_node = current.next\n",
    "            current.next = prev\n",
    "            prev = current\n",
    "            current = next_node\n",
    "\n",
    "        return prev"
   ]
  },
  {
   "cell_type": "markdown",
   "metadata": {},
   "source": [
    "function middleNode(head) {\n",
    "   slow = fast = head\n",
    "   while fast != null and fast.next != null {\n",
    "       slow = slow.next\n",
    "       fast = fast.next.next\n",
    "   }\n",
    "   return slow\n",
    "}\n"
   ]
  },
  {
   "cell_type": "markdown",
   "metadata": {},
   "source": [
    "Давайте разберем основные моменты:\n",
    "\n",
    "Мы определили класс ListNode, который используется для создания узлов связанного списка. Это стандартный подход в Python для работы со связанными списками.\n",
    "Функция middleNode принимает head как аргумент и возвращает средний узел списка.\n",
    "Мы проверяем, является ли head нулевым или имеет только один узел. В этом случае мы просто возвращаем head, так как он и есть средний узел.\n",
    "Переменные slow и fast объявляются как обычные переменные Python.\n",
    "В цикле мы выполняем те же операции, что и в JavaScript версии:\n",
    "Проверяем, не является ли fast нулевым или его следующий узел нулевым\n",
    "Устанавливаем slow.next на следующий узел\n",
    "Перемещаем fast.next.next вперед\n",
    "После выхода из цикла мы возвращаем slow, который теперь указывает на средний узел списка.\n",
    "\n",
    "Этот код использует технику двуногого гонка для определения среднего узла связанного списка. Он работает за O(n) времени и O(1) памяти, где n - количество узлов в списке."
   ]
  },
  {
   "cell_type": "code",
   "execution_count": null,
   "metadata": {},
   "outputs": [],
   "source": [
    "class ListNode:\n",
    "    def __init__(self, val=0, next=None):\n",
    "        self.val = val\n",
    "        self.next = next\n",
    "\n",
    "    def middleNode(head):\n",
    "        if not head or not head.next:\n",
    "            return head\n",
    "\n",
    "        slow = fast = head\n",
    "\n",
    "        while fast and fast.next:\n",
    "            slow = slow.next\n",
    "            fast = fast.next.next\n",
    "\n",
    "        return slow"
   ]
  },
  {
   "cell_type": "markdown",
   "metadata": {},
   "source": [
    "class ListNode {\n",
    "   constructor(val) {\n",
    "       this.val = val\n",
    "       this.next = null\n",
    "   }\n",
    "}\n",
    "\n",
    "function removeElements(head, val) {\n",
    "   dummy = new ListNode()\n",
    "   dummy.next = head\n",
    "   prev = dummy\n",
    "   cur = head\n",
    "\n",
    "   while (cur != null) {\n",
    "       if (cur.val == val) {\n",
    "           prev.next = cur.next\n",
    "       } else {\n",
    "           prev = cur\n",
    "       }\n",
    "       cur = cur.next\n",
    "   }\n",
    "\n",
    "   return dummy.next\n",
    "}\n"
   ]
  },
  {
   "cell_type": "markdown",
   "metadata": {},
   "source": [
    "Давайте разберем основные моменты:\n",
    "\n",
    "Класс ListNode остался без изменений. Он определяет структуру узла связанного списка.\n",
    "Функция removeElements принимает два параметра: head (головка списка) и val (значение элемента для удаления).\n",
    "Мы создаем \"думмеровый\" узел (dummy) и устанавливаем его next на head. Это позволяет нам обрабатывать случай, когда список пустой или содержит только один узел.\n",
    "Переменные prev и current инициализируются как обычные переменные Python.\n",
    "Цикл while проходит по всем узлам списка:\n",
    "Если текущий узел имеет значение, равное val, мы обновляем prev.next, чтобы пропустить этот узел.\n",
    "В противном случае, мы просто перемещаем prev вперед.\n",
    "Затем мы перемещаем current вперед.\n",
    "После завершения цикла мы возвращаем dummy.next, который будет указывать на начало модифицированного списка.\n",
    "Этот код эффективно удаляет все узлы, значения которых равны заданному значению val, оставляя список в неизменном состоянии. Если бы вы хотели изменить оригинальный список, вам нужно было бы использовать дополнительную логику для сохранения ссылок на узлы перед их изменением."
   ]
  },
  {
   "cell_type": "code",
   "execution_count": null,
   "metadata": {},
   "outputs": [],
   "source": [
    "class ListNode:\n",
    "    def __init__(self, val=0, next=None):\n",
    "        self.val = val\n",
    "        self.next = next\n",
    "\n",
    "    def removeElements(head, val):\n",
    "        # Создаем дummies узел\n",
    "        dummy = ListNode(0)\n",
    "        dummy.next = head\n",
    "        prev = dummy\n",
    "        current = head\n",
    "\n",
    "        while current:\n",
    "            if current.val == val:\n",
    "                prev.next = current.next\n",
    "            else:\n",
    "                prev = current\n",
    "            current = current.next\n",
    "\n",
    "        return dummy.next"
   ]
  },
  {
   "cell_type": "markdown",
   "metadata": {},
   "source": [
    "function isSubsequence(a, b) {\n",
    "   q = Queue()\n",
    "   for el in a {\n",
    "       q.push(el)\n",
    "   }\n",
    "   for el in b {\n",
    "       if q.peek() == el {\n",
    "           q.pop()\n",
    "       }\n",
    "   }\n",
    "   return q.getSize() == 0\n",
    "}\n",
    "\n"
   ]
  },
  {
   "cell_type": "markdown",
   "metadata": {},
   "source": [
    "Давайте разберем основные моменты:\n",
    "\n",
    "Мы импортируем deque из модуля collections, так как он предоставляет более эффективные операции очереди.\n",
    "Функция isSubsequence принимает два параметра: s1 (подпоследовательность) и s2 (основная последовательность).\n",
    "Мы создаем очередь queue из символов строки s1.\n",
    "Цикл for проходит по символам строки s2:\n",
    "Если очередь не пуста, мы проверяем, совпадает ли первый элемент очереди с текущим символом char.\n",
    "Если они совпадают, мы удаляем первый элемент очереди.\n",
    "Если они не совпадают или очередь пуста, мы прерываем цикл.\n",
    "После завершения цикла мы возвращаем len(queue) == 0, что означает, что подпоследовательность была полностью найдена в основной последовательности.\n",
    "Обратите внимание, что этот подход может быть менее эффективным для очень длинных строк, чем алгоритм, использующий индексацию. Однако он демонстрирует использование очереди в решении этой задачи."
   ]
  },
  {
   "cell_type": "code",
   "execution_count": null,
   "metadata": {},
   "outputs": [],
   "source": [
    "from collections import deque\n",
    "\n",
    "def isSubsequence(s1, s2):\n",
    "    queue = deque(s1)\n",
    "    \n",
    "    for char in s2:\n",
    "        if queue:\n",
    "            if queue[0] == char:\n",
    "                queue.popleft()\n",
    "            else:\n",
    "                break\n",
    "        else:\n",
    "            break\n",
    "    \n",
    "    return len(queue) == 0"
   ]
  },
  {
   "cell_type": "markdown",
   "metadata": {},
   "source": [
    "function isSubsequence(a, b) {\n",
    "   i,j = 0,0\n",
    "   while i < len(a) and j < len(b){              \n",
    "       if a[i] == b[j] {\n",
    "           i++  \u000b       }\n",
    "       j++\u000b   }\n",
    "   return i == len(a)\n",
    "}\n",
    "\n"
   ]
  },
  {
   "cell_type": "markdown",
   "metadata": {},
   "source": []
  },
  {
   "cell_type": "markdown",
   "metadata": {},
   "source": [
    "function isSubsequence(a, b) {\n",
    " i = 0;\n",
    " lenA = len(a);\n",
    " lenB = len(b);\n",
    "\n",
    " for (el1 = 0; el1 < lenA; el1++) {\n",
    "   for (el2 = 0; el2 < lenB; el2++) {\n",
    "     if (a[el1] == b[el2]) {\n",
    "       i++;\n",
    "       break; // Прерываем внутренний цикл\n",
    "     }\n",
    "   }\n",
    " }\n",
    "\n",
    " return i === lenA;\n",
    "}"
   ]
  },
  {
   "cell_type": "markdown",
   "metadata": {},
   "source": [
    "function isSubsequence(a, b) {\n",
    "   q = Queue()\n",
    "   for el in a {\n",
    "       q.push(el)\n",
    "   }\n",
    "   for el in b {\n",
    "       if q.peek() == el {\n",
    "           q.pop()\n",
    "       }\n",
    "   }\n",
    "   return q.getSize() == 0\n",
    "}\n",
    "\n"
   ]
  },
  {
   "cell_type": "markdown",
   "metadata": {},
   "source": [
    "Этот код работает следующим образом:\n",
    "\n",
    "Мы определяем функцию is_subsequence, которая принимает два параметра a и b.\n",
    "Мы инициализируем переменную i с помощью i = 0.\n",
    "Мы вычисляем длины строк a и b с помощью len().\n",
    "Мы используем вложенные циклы для сравнения символов из a и b.\n",
    "Если символы совпадают, мы увеличиваем i и прерываем внутренний цикл.\n",
    "После завершения всех сравнений, мы проверяем, достигла ли i длину строки a. Если да, это означает, что все символы из a были найдены в порядке в b.\n",
    "Обратите внимание, что этот алгоритм не является оптимальным, так как он может проверять один и тот же символ несколько раз. Для более эффективного решения можно использовать однопроходной алгоритм, который был предложен ранее."
   ]
  },
  {
   "cell_type": "code",
   "execution_count": null,
   "metadata": {},
   "outputs": [],
   "source": [
    "def is_subsequence(a, b):\n",
    "    i = 0\n",
    "    len_a = len(a)\n",
    "    len_b = len(b)\n",
    "\n",
    "    for el1 in range(len_a):\n",
    "        for el2 in range(len_b):\n",
    "            if a[el1] == b[el2]:\n",
    "                i += 1\n",
    "                break\n",
    "    \n",
    "    return i == len_a"
   ]
  },
  {
   "cell_type": "markdown",
   "metadata": {},
   "source": [
    "function isPalindrome(s) {\n",
    "   stack = Stack()\n",
    "   for char in s {\n",
    "       stack.push(char)\n",
    "   }\n",
    "   for char in s {\n",
    "       if char != stack.pop() {\n",
    "           return false\n",
    "       }\n",
    "   }\n",
    "   return true\n",
    "}\n"
   ]
  },
  {
   "cell_type": "markdown",
   "metadata": {},
   "source": [
    "Этот код работает следующим образом:\n",
    "\n",
    "Мы определяем класс Stack, который представляет собой простую реализацию стека.\n",
    "Внутри этого класса у нас есть методы push для добавления элементов и pop для удаления последнего элемента.\n",
    "Функция is_palindrome принимает строку s в качестве аргумента.\n",
    "Сначала мы создаем экземпляр стека и проходим по всем символам строки, добавляя их в стек.\n",
    "Затем мы снова проходим по строке, но теперь сравниваем каждый символ с верхним элементом стека.\n",
    "Если какой-либо символ не соответствует верхнему элементу стека, мы немедленно возвращаем False.\n",
    "Если мы пройдем всю строку без обнаружения несоответствий, мы вернем True, что означает, что строка является палиндромом.\n",
    "Обратите внимание, что этот подход неэффективен для больших строк, так как требует двух проходей по всей строке. Для улучшения производительности можно использовать однопроходной алгоритм или регулярные выражения."
   ]
  },
  {
   "cell_type": "code",
   "execution_count": null,
   "metadata": {},
   "outputs": [],
   "source": [
    "class Stack:\n",
    "    def __init__(self):\n",
    "        self.items = []\n",
    "\n",
    "    def push(self, item):\n",
    "        self.items.append(item)\n",
    "\n",
    "    def pop(self):\n",
    "        return self.items.pop()\n",
    "\n",
    "def is_palindrome(s):\n",
    "    stack = Stack()\n",
    "    for char in s:\n",
    "        stack.push(char)\n",
    "    \n",
    "    for char in s:\n",
    "        if char != stack.pop():\n",
    "            return False\n",
    "    \n",
    "    return True"
   ]
  },
  {
   "cell_type": "markdown",
   "metadata": {},
   "source": []
  },
  {
   "cell_type": "markdown",
   "metadata": {},
   "source": [
    "function isPalindrome(s) {\n",
    " left = 0;\n",
    " right = len(s) - 1;\n",
    "\n",
    " while (left < right) {\n",
    "   if (s[left] !== s[right]) {\n",
    "     return false;\n",
    "   }\n",
    "   left++;\n",
    "   right--;\n",
    " }\n",
    "\n",
    " return true;\n",
    "}\n"
   ]
  },
  {
   "cell_type": "markdown",
   "metadata": {},
   "source": [
    "Этот код работает следующим образом:\n",
    "\n",
    "Мы определяем две указательные переменные left и right, начальные значения которых устанавливаются соответственно нулю и концу строки.\n",
    "Мы используем цикл while, который продолжается до тех пор, пока left меньше right.\n",
    "В каждой итерации мы сравниваем символы под индексами left и right.\n",
    "Если символы не совпадают (if s[left] != s[right]), мы сразу возвращаем False.\n",
    "Если символы совпадают, мы увеличиваем left и уменьшаем right.\n",
    "После выхода из цикла, если мы дошли до середины строки, то строка является палиндромом, и мы возвращаем True.\n",
    "Этот алгоритм более эффективен, чем предыдущие варианты, так как он выполняет только одно проход по строке. Он имеет время работы O(n), где n - длина строки, и пространственную сложность O(1), так как мы используем фиксированное количество памяти для хранения указателей."
   ]
  },
  {
   "cell_type": "code",
   "execution_count": null,
   "metadata": {},
   "outputs": [],
   "source": [
    "def is_palindrome(s):\n",
    "    left = 0\n",
    "    right = len(s) - 1\n",
    "\n",
    "    while left < right:\n",
    "        if s[left] != s[right]:\n",
    "            return False\n",
    "        left += 1\n",
    "        right -= 1\n",
    "\n",
    "    return True"
   ]
  }
 ],
 "metadata": {
  "kernelspec": {
   "display_name": "Python 3",
   "language": "python",
   "name": "python3"
  },
  "language_info": {
   "name": "python",
   "version": "3.12.5"
  }
 },
 "nbformat": 4,
 "nbformat_minor": 2
}
